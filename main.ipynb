{
 "cells": [
  {
   "cell_type": "markdown",
   "metadata": {},
   "source": [
    "1\\)"
   ]
  },
  {
   "cell_type": "markdown",
   "metadata": {},
   "source": [
    "Importing Data"
   ]
  },
  {
   "cell_type": "code",
   "execution_count": 1,
   "metadata": {},
   "outputs": [],
   "source": [
    "import numpy as np\n",
    "\n",
    "from sklearn import datasets\n",
    "iris = datasets.load_iris()\n",
    "X = iris.data[:,0:4] ## from this only take features 0,1,2,3\n",
    "Y = iris.target\n"
   ]
  },
  {
   "cell_type": "markdown",
   "metadata": {},
   "source": [
    "Naive Bayes Code"
   ]
  },
  {
   "cell_type": "code",
   "execution_count": 2,
   "metadata": {},
   "outputs": [],
   "source": [
    "def PGauss(mu, sig, x):\n",
    "    return np.exp(-np.power(x - mu, 2.) / (2 * np.power(sig, 2.) + 1e-300) )\n",
    "\n",
    "def processing_for_NB(X, Y):\n",
    "    U = np.zeros((X.shape[1], 3))\n",
    "    S = np.zeros((X.shape[1], 3))\n",
    "    PClass = []\n",
    "\n",
    "    for c in range(3):\n",
    "        PClass.append(np.array(np.where(Y==c)).shape[1]/Y.shape[0])\n",
    "        for f in range(X.shape[1]):\n",
    "            U[f,c] = X[np.where(Y==c),f].mean()\n",
    "            S[f,c] = X[np.where(Y==c),f].std()\n",
    "\n",
    "    return PClass, U, S\n",
    "\n",
    "def NB(X, PClass, U, S, num_classes = 3):\n",
    "    Y = np.ones((X.shape[0], num_classes))\n",
    "    for i in range(Y.shape[0]): #0-149\n",
    "        for c in range(Y.shape[1]): #0-3\n",
    "            Y[i,c] *= PClass[c]\n",
    "            for f in range(X.shape[1]): #0-4\n",
    "                Y[i,c] *= PGauss(U[f,c], S[f,c], X[i, f])\n",
    "    return Y\n",
    "\n",
    "def argmax(Y):\n",
    "    for i in range(Y.shape[0]):\n",
    "        maxz = max(Y[i])\n",
    "        for j in range(len(Y[i])):\n",
    "            Y[i,j] = 1.0 if Y[i,j]>=maxz else 0\n",
    "    return Y\n"
   ]
  },
  {
   "cell_type": "code",
   "execution_count": 3,
   "metadata": {},
   "outputs": [],
   "source": [
    "from sklearn.preprocessing import OneHotEncoder\n",
    "\n",
    "def onehot(Y):\n",
    "    onehot_encoder = OneHotEncoder(sparse_output=False)\n",
    "    integer_encoded = Y.reshape(len(Y), 1)\n",
    "    onehot_encoded = onehot_encoder.fit_transform(integer_encoded)\n",
    "    return(onehot_encoded)"
   ]
  },
  {
   "cell_type": "markdown",
   "metadata": {},
   "source": [
    "2\\) Testing Naive Bayes's Accuracy"
   ]
  },
  {
   "cell_type": "code",
   "execution_count": 8,
   "metadata": {},
   "outputs": [
    {
     "name": "stdout",
     "output_type": "stream",
     "text": [
      "Training Samples:  105 Testing Samples:  45\n",
      "Accuracy:  0.9777777777777777 Misclassifications:  1\n",
      "Misclassified Indexes:  [16] Actual Classification:  [[0. 1. 0.]] NB Prediction:  [[0. 0. 1.]]\n"
     ]
    }
   ],
   "source": [
    "from sklearn.model_selection import train_test_split\n",
    "\n",
    "X_train, X_test, Y_train, Y_test_ = train_test_split(X, Y, test_size=0.3)\n",
    "\n",
    "PClass, U, S = processing_for_NB(X_train, Y_train)\n",
    "\n",
    "Y_pred = NB(X_test, PClass, U, S)\n",
    "Y_pred = argmax(Y_pred)\n",
    "\n",
    "Y_test = onehot(Y_test_)\n",
    "\n",
    "def accuracy(Y, Y_pred):\n",
    "    correct_pred = 0\n",
    "    misclassifications = 0\n",
    "    idx = []\n",
    "    i = 0\n",
    "    for y, y_pred in zip(Y, Y_pred):\n",
    "        if np.all(y == y_pred):\n",
    "            correct_pred += 1\n",
    "        else:\n",
    "            misclassifications +=1\n",
    "            idx.append(i)\n",
    "        i += 1\n",
    "    return correct_pred/Y.shape[0], misclassifications, idx\n",
    "\n",
    "correct_pred, misclassifications, err_idx = accuracy(Y_test, Y_pred)\n",
    "print(\"Training Samples: \", X_train.shape[0], \"Testing Samples: \", X_test.shape[0])\n",
    "print(\"Accuracy: \", correct_pred, \"Misclassifications: \", misclassifications) \n",
    "print(\"Misclassified Indexes: \", err_idx, \"Actual Classification: \", Y_test[err_idx], \"NB Prediction: \", Y_pred[err_idx] )"
   ]
  },
  {
   "cell_type": "markdown",
   "metadata": {},
   "source": [
    "3\\) Sklearn Implementation"
   ]
  },
  {
   "cell_type": "code",
   "execution_count": 14,
   "metadata": {},
   "outputs": [
    {
     "name": "stdout",
     "output_type": "stream",
     "text": [
      "Accuracy:  1.0\n"
     ]
    }
   ],
   "source": [
    "from sklearn.naive_bayes import GaussianNB\n",
    "from sklearn.metrics import accuracy_score\n",
    "\n",
    "clf = GaussianNB()\n",
    "clf.fit(X_train, Y_train)\n",
    "Y_pred = clf.predict(X_test)\n",
    "print(\"Accuracy: \", accuracy_score(Y_test_, Y_pred))\n"
   ]
  },
  {
   "cell_type": "markdown",
   "metadata": {},
   "source": [
    "Comparision: The canned sklearn model works very well and gets 0 misclassifications however, my implementation of Naive Bayes gets 1 misclassification."
   ]
  }
 ],
 "metadata": {
  "kernelspec": {
   "display_name": "Python 3",
   "language": "python",
   "name": "python3"
  },
  "language_info": {
   "codemirror_mode": {
    "name": "ipython",
    "version": 3
   },
   "file_extension": ".py",
   "mimetype": "text/x-python",
   "name": "python",
   "nbconvert_exporter": "python",
   "pygments_lexer": "ipython3",
   "version": "3.10.6"
  }
 },
 "nbformat": 4,
 "nbformat_minor": 2
}
