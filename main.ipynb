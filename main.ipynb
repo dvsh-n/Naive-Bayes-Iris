{
 "cells": [
  {
   "cell_type": "markdown",
   "metadata": {},
   "source": [
    "1\\)"
   ]
  },
  {
   "cell_type": "markdown",
   "metadata": {},
   "source": [
    "Importing Data"
   ]
  },
  {
   "cell_type": "code",
   "execution_count": 4,
   "metadata": {},
   "outputs": [
    {
     "name": "stdout",
     "output_type": "stream",
     "text": [
      "(150, 4)\n",
      "[0 0 0 0 0 0 0 0 0 0 0 0 0 0 0 0 0 0 0 0 0 0 0 0 0 0 0 0 0 0 0 0 0 0 0 0 0\n",
      " 0 0 0 0 0 0 0 0 0 0 0 0 0 1 1 1 1 1 1 1 1 1 1 1 1 1 1 1 1 1 1 1 1 1 1 1 1\n",
      " 1 1 1 1 1 1 1 1 1 1 1 1 1 1 1 1 1 1 1 1 1 1 1 1 1 1 2 2 2 2 2 2 2 2 2 2 2\n",
      " 2 2 2 2 2 2 2 2 2 2 2 2 2 2 2 2 2 2 2 2 2 2 2 2 2 2 2 2 2 2 2 2 2 2 2 2 2\n",
      " 2 2]\n"
     ]
    }
   ],
   "source": [
    "import numpy as np\n",
    "\n",
    "from sklearn import datasets\n",
    "iris = datasets.load_iris()\n",
    "X = iris.data[:,0:4] ## from this only take features 0,1,2,3\n",
    "Y = iris.target\n",
    "\n",
    "print(X.shape)\n",
    "print(Y)"
   ]
  },
  {
   "cell_type": "code",
   "execution_count": 16,
   "metadata": {},
   "outputs": [
    {
     "name": "stdout",
     "output_type": "stream",
     "text": [
      "50\n",
      "150\n",
      "50\n",
      "150\n",
      "50\n",
      "150\n",
      "[0.3333333333333333, 0.3333333333333333, 0.3333333333333333]\n",
      "[[5.006 5.936 6.588]\n",
      " [3.428 2.77  2.974]\n",
      " [1.462 4.26  5.552]\n",
      " [0.246 1.326 2.026]]\n",
      "[[0.34894699 0.51098337 0.62948868]\n",
      " [0.37525458 0.31064449 0.31925538]\n",
      " [0.17191859 0.46518813 0.54634787]\n",
      " [0.10432641 0.19576517 0.27188968]]\n"
     ]
    }
   ],
   "source": [
    "def PGauss(mu, sig, x):\n",
    "    return np.exp(-np.power(x - mu, 2.) / (2 * np.power(sig, 2.) + 1e-300) )\n",
    "\n",
    "def processing_for_NB(X, Y):\n",
    "    U = np.zeros((X.shape[1], 3))\n",
    "    S = np.zeros((X.shape[1], 3))\n",
    "    PClass = []\n",
    "\n",
    "    for i in range(3):\n",
    "        PClass.append(np.array(np.where(Y==i)).shape[1]/Y.shape[0])\n",
    "        for f in range(X.shape[1]):\n",
    "            U[f,i] = X[np.where(Y==i),f].mean()\n",
    "            S[f,i] = X[np.where(Y==i),f].std()\n",
    "\n",
    "    return PClass, U, S\n",
    "    \n",
    "PClass, U, S = processing_for_NB(X,Y)\n",
    "print(PClass)\n",
    "print(U)\n",
    "print(S)\n",
    "\n",
    "def NB(X, PClass, U, S):\n",
    "    Y = np.zeros((X.shape))\n",
    "    for x, i in enumerate(X):\n",
    "        \n",
    "\n"
   ]
  }
 ],
 "metadata": {
  "kernelspec": {
   "display_name": "Python 3",
   "language": "python",
   "name": "python3"
  },
  "language_info": {
   "codemirror_mode": {
    "name": "ipython",
    "version": 3
   },
   "file_extension": ".py",
   "mimetype": "text/x-python",
   "name": "python",
   "nbconvert_exporter": "python",
   "pygments_lexer": "ipython3",
   "version": "3.10.6"
  }
 },
 "nbformat": 4,
 "nbformat_minor": 2
}
